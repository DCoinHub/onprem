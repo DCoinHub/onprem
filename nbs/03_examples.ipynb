{
 "cells": [
  {
   "cell_type": "code",
   "execution_count": null,
   "metadata": {},
   "outputs": [],
   "source": [
    "#| hide\n",
    "from onprem.core import *"
   ]
  },
  {
   "cell_type": "markdown",
   "metadata": {},
   "source": [
    "# Examples`"
   ]
  },
  {
   "cell_type": "markdown",
   "metadata": {},
   "source": [
    "In these examples we will accelerate inference using a GPU.  We use an NVIDIA Titan V GPU with a modest 12GB of VRAM.\n",
    "For GPU acceleration, make sure you installed `llama-cpp-python` with CUBLAS support:\n",
    "```shell\n",
    "CMAKE_ARGS=\"-DLLAMA_CUBLAS=on\" FORCE_CMAKE=1 pip install --upgrade --force-reinstall llama-cpp-python==0.1.69 --no-cache-dir\n",
    "```"
   ]
  },
  {
   "cell_type": "markdown",
   "metadata": {},
   "source": [
    "## Setup the `LLM` instance"
   ]
  },
  {
   "cell_type": "code",
   "execution_count": null,
   "metadata": {},
   "outputs": [
    {
     "name": "stdin",
     "output_type": "stream",
     "text": [
      "There is already a file Wizard-Vicuna-7B-Uncensored.ggmlv3.q4_0.bin in /home/amaiya/onprem_data.\n",
      " Do you want to still download it? (Y/n)  n\n"
     ]
    }
   ],
   "source": [
    "#| notest\n",
    "from onprem import LLM\n",
    "import os\n",
    "url = 'https://huggingface.co/TheBloke/Wizard-Vicuna-7B-Uncensored-GGML/resolve/main/Wizard-Vicuna-7B-Uncensored.ggmlv3.q4_0.bin'\n",
    "\n",
    "llm = LLM(model_name=os.path.basename(url), n_gpu_layers=32)\n",
    "llm.download_model(url, ssl_verify=True, confirm=True )"
   ]
  },
  {
   "cell_type": "markdown",
   "metadata": {},
   "source": [
    "## Information Extraction"
   ]
  },
  {
   "cell_type": "code",
   "execution_count": null,
   "metadata": {},
   "outputs": [
    {
     "name": "stdout",
     "output_type": "stream",
     "text": [
      "\n",
      "Cillian Murphy, Florence Pugh"
     ]
    }
   ],
   "source": [
    "#| notest\n",
    "prompt = \"\"\"Extract the names of people in the supplied sentences. Here is an example:\n",
    "Sentence: James Gandolfini and Paul Newman were great actors.\n",
    "People:\n",
    "James Gandolfini, Paul Newman\n",
    "Sentence:\n",
    "I like Cillian Murphy's acting. Florence Pugh is great, too.\n",
    "People:\"\"\"\n",
    "\n",
    "saved_output = llm.prompt(prompt)"
   ]
  },
  {
   "cell_type": "markdown",
   "metadata": {},
   "source": [
    "A more complicated example of **Information Extraction**:"
   ]
  },
  {
   "cell_type": "code",
   "execution_count": null,
   "metadata": {},
   "outputs": [
    {
     "name": "stdout",
     "output_type": "stream",
     "text": [
      "[Name]: David Melvin\n",
      "[Position]: Investment and Financial Services Professional\n",
      "[Company]: CITIC CLSA"
     ]
    }
   ],
   "source": [
    "#| notest\n",
    "\n",
    "prompt = \"\"\"Extract the Name, Position, and Company from the following sentences.  Here are some examples.\n",
    "[Text]: Fred is a serial entrepreneur. Co-founder and CEO of Platform.sh, he previously co-founded Commerce Guys, a leading Drupal ecommerce provider. His mission is to guarantee that as we continue on an ambitious journey to profoundly transform how cloud computing is used and perceived, we keep our feet well on the ground continuing the rapid growth we have enjoyed up until now. \n",
    "[Name]: Fred\n",
    "[Position]: Co-founder and CEO\n",
    "[Company]: Platform.sh\n",
    "###\n",
    "[Text]: Microsoft (the word being a portmanteau of \"microcomputer software\") was founded by Bill Gates on April 4, 1975, to develop and sell BASIC interpreters for the Altair 8800. Steve Ballmer replaced Gates as CEO in 2000, and later envisioned a \"devices and services\" strategy.\n",
    "[Name]:  Steve Ballmer\n",
    "[Position]: CEO\n",
    "[Company]: Microsoft\n",
    "###\n",
    "[Text]: Franck Riboud was born on 7 November 1955 in Lyon. He is the son of Antoine Riboud, the previous CEO, who transformed the former European glassmaker BSN Group into a leading player in the food industry. He is the CEO at Danone.\n",
    "[Name]:  Franck Riboud\n",
    "[Position]: CEO\n",
    "[Company]: Danone\n",
    "###\n",
    "[Text]: David Melvin is an investment and financial services professional at CITIC CLSA with over 30 years’ experience in investment banking and private equity. He is currently a Senior Adviser of CITIC CLSA.\n",
    "\"\"\"\n",
    "saved_output = llm.prompt(prompt)"
   ]
  },
  {
   "cell_type": "markdown",
   "metadata": {},
   "source": [
    "## Grammar Correction"
   ]
  },
  {
   "cell_type": "code",
   "execution_count": null,
   "metadata": {},
   "outputs": [
    {
     "name": "stdout",
     "output_type": "stream",
     "text": [
      "I do not want to go"
     ]
    }
   ],
   "source": [
    "#| notest\n",
    "\n",
    "prompt=\"\"\"Correct spelling and grammar from the following text.\n",
    "I do not wan to go\n",
    "\"\"\"\n",
    "saved_output = llm.prompt(prompt)"
   ]
  },
  {
   "cell_type": "markdown",
   "metadata": {},
   "source": [
    "## Classification"
   ]
  },
  {
   "cell_type": "code",
   "execution_count": null,
   "metadata": {},
   "outputs": [
    {
     "name": "stdout",
     "output_type": "stream",
     "text": [
      "This text is classified as negative because it expresses a problem or issue that someone may encounter."
     ]
    }
   ],
   "source": [
    "#| notest\n",
    "\n",
    "prompt = \"\"\"Classify the following text delimited by triple backticks as either positive, negative, or neutral.\n",
    "```I got locked out of my house.```\n",
    "\"\"\"\n",
    "\n",
    "saved_output = llm.prompt(prompt)"
   ]
  },
  {
   "cell_type": "markdown",
   "metadata": {},
   "source": [
    "## Paraphrasing"
   ]
  },
  {
   "cell_type": "code",
   "execution_count": null,
   "metadata": {},
   "outputs": [
    {
     "name": "stdout",
     "output_type": "stream",
     "text": [
      "The text states that after a 20-year war in which the United States initially decided to withdraw its troops from Afghanistan, the capital city of Kabul fell quickly into the hands of the Taliban without any military resistance."
     ]
    }
   ],
   "source": [
    "#| notest\n",
    "\n",
    "prompt = \"\"\"Paraphrase the following text delimited by triple backticks. \n",
    "```After a war lasting 20 years, following the decision taken first by President Trump and then by President Biden to withdraw American troops, Kabul, the capital of Afghanistan, fell within a few hours to the Taliban, without resistance.```\n",
    "\"\"\"\n",
    "saved_output = llm.prompt(prompt)"
   ]
  },
  {
   "cell_type": "markdown",
   "metadata": {},
   "source": [
    "## Few-Shot Answer Extraction"
   ]
  },
  {
   "cell_type": "code",
   "execution_count": null,
   "metadata": {},
   "outputs": [
    {
     "name": "stdout",
     "output_type": "stream",
     "text": [
      " \n",
      "GPU"
     ]
    }
   ],
   "source": [
    "#| notest\n",
    "\n",
    "prompt=\"\"\"Answer the Question based on the Context.  Here are some examples.\n",
    "[Context]: \n",
    "NLP Cloud was founded in 2021 when the team realized there was no easy way to reliably leverage Natural Language Processing in production.\n",
    "Question: When was NLP Cloud founded?\n",
    "[Answer]: \n",
    "2021\n",
    "###\n",
    "[Context]:\n",
    "NLP Cloud developed their API by mid-2020 and they added many pre-trained open-source models since then.\n",
    "[Question]: \n",
    "What did NLP Cloud develop?\n",
    "[Answer]:\n",
    "API\n",
    "###\n",
    "[Context]:\n",
    "All plans can be stopped anytime. You only pay for the time you used the service. In case of a downgrade, you will get a discount on your next invoice.\n",
    "[Question]:\n",
    "When can plans be stopped?\n",
    "[Answer]:\n",
    "Anytime\n",
    "###\n",
    "[Context]:\n",
    "The main challenge with GPT-J is memory consumption. Using a GPU plan is recommended.\n",
    "[Question]:\n",
    "Which plan is recommended for GPT-J?\n",
    "Answer:\"\"\"\n",
    "saved_output = llm.prompt(prompt)"
   ]
  },
  {
   "cell_type": "markdown",
   "metadata": {},
   "source": [
    "## Generating Product Descriptions"
   ]
  },
  {
   "cell_type": "code",
   "execution_count": null,
   "metadata": {},
   "outputs": [
    {
     "name": "stdout",
     "output_type": "stream",
     "text": [
      " \n",
      "Classy t-shirts for men at the price of $39."
     ]
    }
   ],
   "source": [
    "#| notest\n",
    "\n",
    "prompt=\"\"\"Generate a Sentence from the Keywords. Here are some examples.\n",
    "[Keywords]:\n",
    "shoes, women, $59\n",
    "[Sentence]:\n",
    "Beautiful shoes for women at the price of $59.\n",
    "###\n",
    "[Keywords]:\n",
    "trousers, men, $69\n",
    "[Sentence]:\n",
    "Modern trousers for men, for $69 only.\n",
    "###\n",
    "[Keywords]:\n",
    "gloves, winter, $19\n",
    "[Sentence]: \n",
    "Amazingly hot gloves for cold winters, at $19.\n",
    "###\n",
    "[Keywords]: \n",
    "t-shirt, men, $39\n",
    "[Sentence]:\"\"\"\n",
    "saved_output = llm.prompt(prompt)"
   ]
  },
  {
   "cell_type": "markdown",
   "metadata": {},
   "source": [
    "## Tweet Generation"
   ]
  },
  {
   "cell_type": "code",
   "execution_count": null,
   "metadata": {},
   "outputs": [
    {
     "name": "stdout",
     "output_type": "stream",
     "text": [
      "\n",
      "It's time we stop talking and start acting on climate change before it's too late."
     ]
    }
   ],
   "source": [
    "#| notest\n",
    "prompt = \"\"\"Generate a tweet based on the supplied Keyword. Here are some examples.\n",
    "[Keyword]:\n",
    "markets\n",
    "[Tweet]:\n",
    "Take feedback from nature and markets, not from people\n",
    "###\n",
    "[Keyword]:\n",
    "children\n",
    "[Tweet]:\n",
    "Maybe we die so we can come back as children.\n",
    "###\n",
    "[Keyword]:\n",
    "startups\n",
    "[Tweet]: \n",
    "Startups should not worry about how to put out fires, they should worry about how to start them.\n",
    "###\n",
    "[Keyword]:\n",
    "climate change\n",
    "[Tweet]:\"\"\"\n",
    "saved_output = llm.prompt(prompt)"
   ]
  },
  {
   "cell_type": "markdown",
   "metadata": {},
   "source": [
    "## Drafting Emails"
   ]
  },
  {
   "cell_type": "code",
   "execution_count": null,
   "metadata": {},
   "outputs": [
    {
     "name": "stdout",
     "output_type": "stream",
     "text": [
      "\n",
      "Subject: Introducing the Future of Energy - Tesla\n",
      "Dear Shareholder,\n",
      "As a valued shareholder of Tesla, I am writing to introduce you to the future of energy. It's been over a decade since Tesla first revolutionized the automotive industry with its electric vehicles, and now we are finally ready to take on the next challenge - transforming energy itself.\n",
      "Tesla is already leading the way in renewable energy solutions with our solar roof tiles and Powerwall batteries. However, we believe that a truly sustainable future requires more than just individual homes or even utility-scale solar farms. It requires an entire power grid that is optimized for renewables and built around digital control systems.\n",
      "That's why Tesla is launching the Tesla Energy products line - designed to bring our innovative battery storage technology to businesses, governments, and utilities alike. The Tesla Powerpack offers scalable and reliable energy storage solutions for large-scale applications like solar farms or microgrids. And with its integrated software platform, Tesla is making it easier than ever for organizations to integrate renewables into their existing power systems.\n",
      "But Tesla Energy isn't just about batteries - we are also introducing a breakthrough energy storage system called the Megafactories. These giant batteries use advanced chemistry to store massive amounts of energy, and can be used for everything from smoothing out intermittent renewable sources to providing backup power during emergencies.\n",
      "As a shareholder, you have already played an important role in Tesla's success. But now we need your support more than ever as we take on this next challenge - building a sustainable future for all of us. With your continued investment and support, there is no limit to what we can achieve together.\n",
      "Thanks again for your trust in our vision,"
     ]
    }
   ],
   "source": [
    "#| notest\n",
    "prompt = \"\"\"Generate an email introducing Tesla to shareholders.\"\"\"\n",
    "saved_output = llm.prompt(prompt)"
   ]
  },
  {
   "cell_type": "code",
   "execution_count": null,
   "metadata": {},
   "outputs": [],
   "source": []
  }
 ],
 "metadata": {
  "kernelspec": {
   "display_name": "python3",
   "language": "python",
   "name": "python3"
  }
 },
 "nbformat": 4,
 "nbformat_minor": 4
}
